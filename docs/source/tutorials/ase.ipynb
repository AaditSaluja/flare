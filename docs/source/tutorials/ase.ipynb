{
 "cells": [
  {
   "cell_type": "markdown",
   "metadata": {},
   "source": [
    "# On-the-fly training using ASE\n",
    "\n",
    "This is a quick introduction of how to set up our ASE-OTF interface to train a force field. We will train a force field model for diamond. To run the on-the-fly training, we will need to\n",
    "\n",
    "1. Create a supercell with ASE Atoms object\n",
    "2. Set up FLARE ASE calculator, including the kernel functions, hyperparameters, cutoffs for Gaussian process, and mapping parameters (if Mapped Gaussian Process is used)\n",
    "3. Set up DFT ASE calculator. Here we will give an example of Quantum Espresso\n",
    "4. Set up on-the-fly training with ASE MD engine\n",
    "\n",
    "Please make sure you are using the LATEST FLARE code in our master branch.\n",
    "\n",
    "## Setup supercell with ASE\n",
    "\n",
    "Here we create a 2x1x1 supercell with lattice constant 3.855, and randomly perturb the positions of the atoms, so that they will start MD with non-zero forces."
   ]
  },
  {
   "cell_type": "code",
   "execution_count": 1,
   "metadata": {},
   "outputs": [],
   "source": [
    "import numpy as np\n",
    "from ase import units\n",
    "from ase.spacegroup import crystal\n",
    "from ase.build import bulk\n",
    "\n",
    "np.random.seed(12345)\n",
    "\n",
    "a = 3.52678\n",
    "super_cell = bulk('C', 'diamond', a=a, cubic=True) "
   ]
  },
  {
   "cell_type": "code",
   "execution_count": null,
   "metadata": {},
   "outputs": [],
   "source": []
  }
 ],
 "metadata": {
  "kernelspec": {
   "display_name": "Python 3",
   "language": "python",
   "name": "python3"
  },
  "language_info": {
   "codemirror_mode": {
    "name": "ipython",
    "version": 3
   },
   "file_extension": ".py",
   "mimetype": "text/x-python",
   "name": "python",
   "nbconvert_exporter": "python",
   "pygments_lexer": "ipython3",
   "version": "3.7.5"
  }
 },
 "nbformat": 4,
 "nbformat_minor": 2
}
