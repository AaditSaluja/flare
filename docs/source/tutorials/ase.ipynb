{
 "cells": [
  {
   "cell_type": "markdown",
   "metadata": {},
   "source": [
    "# On-the-fly training using ASE\n",
    "\n",
    "Yu Xie (xiey@g.harvard.edu)\n",
    "\n",
    "This is a quick introduction of how to set up our ASE-OTF interface to train a force field. We will train a force field model for diamond. To run the on-the-fly training, we will need to\n",
    "\n",
    "1. Create a supercell with ASE Atoms object\n",
    "2. Set up FLARE ASE calculator, including the kernel functions, hyperparameters, cutoffs for Gaussian process, and mapping parameters (if Mapped Gaussian Process is used)\n",
    "3. Set up DFT ASE calculator. Here we will give an example of Quantum Espresso\n",
    "4. Set up on-the-fly training with ASE MD engine\n",
    "\n",
    "Please make sure you are using the LATEST FLARE code in our master branch.\n",
    "\n",
    "## Step 1: Set up supercell with ASE\n",
    "\n",
    "Here we create a 2x1x1 supercell with lattice constant 3.855, and randomly perturb the positions of the atoms, so that they will start MD with non-zero forces."
   ]
  },
  {
   "cell_type": "code",
   "execution_count": 1,
   "metadata": {},
   "outputs": [],
   "source": [
    "import numpy as np\n",
    "from ase import units\n",
    "from ase.spacegroup import crystal\n",
    "from ase.build import bulk\n",
    "\n",
    "np.random.seed(12345)\n",
    "\n",
    "a = 3.52678\n",
    "super_cell = bulk('C', 'diamond', a=a, cubic=True) "
   ]
  },
  {
   "cell_type": "markdown",
   "metadata": {},
   "source": [
    "## Step 2: Set up FLARE calculator\n",
    "\n",
    "Now let’s set up our Gaussian process model in the same way as introduced before"
   ]
  },
  {
   "cell_type": "code",
   "execution_count": 2,
   "metadata": {
    "tags": []
   },
   "outputs": [
    {
     "output_type": "stream",
     "name": "stdout",
     "text": "hyps [0.92961609 0.31637555 0.18391881 0.20456028 0.05      ]\n"
    }
   ],
   "source": [
    "from flare.gp import GaussianProcess\n",
    "from flare.utils.parameter_helper import ParameterHelper\n",
    "\n",
    "# set up GP hyperparameters\n",
    "kernels = ['twobody', 'threebody'] # use 2+3 body kernel\n",
    "parameters = {'cutoff_twobody': 5.0, \n",
    "              'cutoff_threebody': 3.5}\n",
    "pm = ParameterHelper(\n",
    "    kernels = kernels,   \n",
    "    random = True,\n",
    "    parameters=parameters\n",
    ")\n",
    "\n",
    "hm = pm.as_dict()\n",
    "hyps = hm['hyps']\n",
    "cut = hm['cutoffs']\n",
    "print('hyps', hyps)\n",
    "\n",
    "gp_model = GaussianProcess(\n",
    "    kernels = kernels,\n",
    "    component = 'mc', # If you are using ASE, please set to \"mc\" no matter for single-component or multi-component\n",
    "    hyps = hyps,\n",
    "    cutoffs = cut,\n",
    "    hyp_labels = ['sig2','ls2','sig3','ls3','noise'],\n",
    "    opt_algorithm = 'L-BFGS-B',\n",
    "    n_cpus = 1\n",
    ")"
   ]
  },
  {
   "cell_type": "markdown",
   "metadata": {},
   "source": [
    "### Optional\n",
    "\n",
    "If you want to use Mapped Gaussian Process (MGP), then set up MGP as follows"
   ]
  },
  {
   "cell_type": "code",
   "execution_count": 3,
   "metadata": {},
   "outputs": [],
   "source": [
    "from flare.mgp import MappedGaussianProcess\n",
    "\n",
    "grid_params = {'twobody':   {'grid_num': [64]},\n",
    "               'threebody': {'grid_num': [16, 16, 16]}}\n",
    "\n",
    "mgp_model = MappedGaussianProcess(grid_params, \n",
    "                                  unique_species = [6], \n",
    "                                  n_cpus = 1,\n",
    "                                  var_map=None)"
   ]
  },
  {
   "cell_type": "markdown",
   "metadata": {},
   "source": [
    "Now let's set up FLARE's ASE calculator. If you want to use MGP model, then set `use_mapping = True` and `mgp_model = mgp_model` below."
   ]
  },
  {
   "cell_type": "code",
   "execution_count": 4,
   "metadata": {},
   "outputs": [],
   "source": [
    "from flare.ase.calculator import FLARE_Calculator\n",
    "\n",
    "flare_calculator = FLARE_Calculator(gp_model, \n",
    "                                    par = True, \n",
    "                                    mgp_model = None,\n",
    "                                    use_mapping = False)\n",
    "\n",
    "super_cell.set_calculator(flare_calculator)"
   ]
  },
  {
   "cell_type": "markdown",
   "metadata": {},
   "source": [
    "## Step 3: Set up DFT calculator\n",
    "For DFT calculator, you can use any calculator provided by ASE, e.g. [Quantum Espresso (QE)](https://wiki.fysik.dtu.dk/ase/ase/calculators/espresso.html), [VASP](https://wiki.fysik.dtu.dk/ase/ase/calculators/vasp.html), etc. \n",
    "\n",
    "For a quick illustration of our interface, we use the [Lennard-Jones (LJ)](https://wiki.fysik.dtu.dk/ase/ase/calculators/others.html?highlight=lj#module-ase.calculators.lj) potential as an example. "
   ]
  },
  {
   "cell_type": "code",
   "execution_count": 5,
   "metadata": {},
   "outputs": [],
   "source": [
    "from ase.calculators.lj import LennardJones\n",
    "lj_calc = LennardJones() "
   ]
  },
  {
   "cell_type": "markdown",
   "metadata": {},
   "source": [
    "### Optional: alternatively, set up Quantum Espresso calculator\n",
    "\n",
    "We also give the code below for setting up the ASE quantum espresso calculator, following the [instruction](https://wiki.fysik.dtu.dk/ase/ase/calculators/espresso.html) on ASE website.\n",
    "\n",
    "First, we need to set up our environment variable `ASE_ESPRESSO_COMMAND` to our QE executable, so that ASE can find this calculator. Then set up our input parameters of QE and create an ASE calculator"
   ]
  },
  {
   "cell_type": "code",
   "execution_count": 6,
   "metadata": {},
   "outputs": [],
   "source": [
    "import os\n",
    "from ase.calculators.espresso import Espresso\n",
    "\n",
    "# ---------------- set up executable ---------------- \n",
    "label = 'C'\n",
    "input_file = label+'.pwi'\n",
    "output_file = label+'.pwo'\n",
    "no_cpus = 32\n",
    "npool = 32\n",
    "pw_loc = 'path/to/pw.x'\n",
    "\n",
    "# serial\n",
    "os.environ['ASE_ESPRESSO_COMMAND'] = f'{pw_loc} < {input_file} > {output_file}'\n",
    "\n",
    "## parallel qe using mpirun\n",
    "# os.environ['ASE_ESPRESSO_COMMAND'] = f'mpirun -np {no_cpus} {pw_loc} -npool {npool} < {input_file} > {output_file}'\n",
    "\n",
    "## parallel qe using srun (for slurm system)\n",
    "# os.environ['ASE_ESPRESSO_COMMAND'] = 'srun -n {no_cpus} --mpi=pmi2 {pw_loc} -npool {npool} < {input_file} > {output_file}'\n",
    "\n",
    "\n",
    "# -------------- set up input parameters -------------- \n",
    "input_data = {'control':   {'prefix': label, \n",
    "                            'pseudo_dir': './',\n",
    "                            'outdir': './out',\n",
    "                            'calculation': 'scf'},\n",
    "              'system':    {'ibrav': 0, \n",
    "                            'ecutwfc': 60,\n",
    "                            'ecutrho': 360},\n",
    "              'electrons': {'conv_thr': 1.0e-9,\n",
    "                            'electron_maxstep': 100,\n",
    "                            'mixing_beta': 0.7}}\n",
    "\n",
    "# ----------------  pseudo-potentials -----------------         \n",
    "ion_pseudo = {'C': 'C.pz-rrkjus.UPF'}\n",
    "\n",
    "# -------------- create ASE calculator ---------------- \n",
    "dft_calc = Espresso(pseudopotentials=ion_pseudo, label=label, \n",
    "                    tstress=True, tprnfor=True, nosym=True, \n",
    "                    input_data=input_data, kpts=(8, 8, 8)) "
   ]
  },
  {
   "cell_type": "markdown",
   "metadata": {},
   "source": [
    "## Step 4: Set up On-The-Fly MD engine\n",
    "\n",
    "Finally, our OTF is compatible with 5 MD engines that ASE supports: VelocityVerlet, NVTBerendsen, NPTBerendsen, NPT and Langevin. We can choose any of them, and set up the parameters based on [ASE requirements](https://wiki.fysik.dtu.dk/ase/ase/md.html). After everything is set up, we can run the on-the-fly training.\n",
    "\n",
    "**Note**: Currently, only VelocityVerlet is tested on real system, NPT may have issue with pressure and stress.\n",
    "\n",
    "Set up ASE_OTF training engine:\n",
    "\n",
    "1. Initialize the velocities of atoms as 500K\n",
    "\n",
    "2. Set up MD arguments as a dictionary based on [ASE MD parameters](https://wiki.fysik.dtu.dk/ase/ase/md.html). For VelocityVerlet, we don't need to set up extra parameters.\n",
    "   \n",
    "    E.g. for NVTBerendsen, we can set `md_kwargs = {'temperature': 500, 'taut': 0.5e3 * units.fs}`"
   ]
  },
  {
   "cell_type": "code",
   "execution_count": 7,
   "metadata": {},
   "outputs": [],
   "source": [
    "from ase import units\n",
    "from ase.md.velocitydistribution import (MaxwellBoltzmannDistribution,\n",
    "                                         Stationary, ZeroRotation)\n",
    "\n",
    "temperature = 500\n",
    "MaxwellBoltzmannDistribution(super_cell, temperature * units.kB)\n",
    "Stationary(super_cell)  # zero linear momentum\n",
    "ZeroRotation(super_cell)  # zero angular momentum\n",
    "\n",
    "md_engine = 'VelocityVerlet'\n",
    "md_kwargs = {}"
   ]
  },
  {
   "cell_type": "markdown",
   "metadata": {},
   "source": [
    "3. Set up parameters for On-The-Fly (OTF) training. The descriptions of the parameters are in [ASE OTF module](https://flare-yuuuu.readthedocs.io/en/development/flare/ase/otf.html).\n",
    "4. Set up the ASE_OTF training engine, and run\n",
    "5. Check `otf.out` after the training is done."
   ]
  },
  {
   "cell_type": "code",
   "execution_count": 8,
   "metadata": {},
   "outputs": [],
   "source": [
    "from flare.ase.otf import ASE_OTF\n",
    "\n",
    "otf_params = {'init_atoms': [0, 1, 2, 3],\n",
    "              'output_name': 'otf',\n",
    "              'std_tolerance_factor': 2,\n",
    "              'max_atoms_added' : 4,\n",
    "              'freeze_hyps': 10}\n",
    "\n",
    "test_otf = ASE_OTF(super_cell, \n",
    "                   timestep = 1 * units.fs,\n",
    "                   number_of_steps = 3,\n",
    "                   dft_calc = lj_calc,\n",
    "                   md_engine = md_engine,\n",
    "                   md_kwargs = md_kwargs,\n",
    "                   **otf_params)\n",
    "\n",
    "test_otf.run()"
   ]
  },
  {
   "cell_type": "markdown",
   "metadata": {},
   "source": [
    "Then check the `*.out` file for the training log."
   ]
  }
 ],
 "metadata": {
  "kernelspec": {
   "display_name": "Python 3",
   "language": "python",
   "name": "python3"
  },
  "language_info": {
   "codemirror_mode": {
    "name": "ipython",
    "version": 3
   },
   "file_extension": ".py",
   "mimetype": "text/x-python",
   "name": "python",
   "nbconvert_exporter": "python",
   "pygments_lexer": "ipython3",
   "version": "3.7.5-final"
  }
 },
 "nbformat": 4,
 "nbformat_minor": 2
}